{
  "nbformat": 4,
  "nbformat_minor": 0,
  "metadata": {
    "colab": {
      "provenance": [],
      "authorship_tag": "ABX9TyOuS4vDoTtKFZoGQLm52Wbg",
      "include_colab_link": true
    },
    "kernelspec": {
      "name": "python3",
      "display_name": "Python 3"
    },
    "language_info": {
      "name": "python"
    }
  },
  "cells": [
    {
      "cell_type": "markdown",
      "metadata": {
        "id": "view-in-github",
        "colab_type": "text"
      },
      "source": [
        "<a href=\"https://colab.research.google.com/github/jjyeon0826/test/blob/main/%EA%B3%BC%EC%A0%9C4.ipynb\" target=\"_parent\"><img src=\"https://colab.research.google.com/assets/colab-badge.svg\" alt=\"Open In Colab\"/></a>"
      ]
    },
    {
      "cell_type": "code",
      "execution_count": 1,
      "metadata": {
        "colab": {
          "base_uri": "https://localhost:8080/"
        },
        "id": "FLuXF0wUGO1f",
        "outputId": "1799c7f5-8382-40aa-b7a5-41925ae957b2"
      },
      "outputs": [
        {
          "output_type": "stream",
          "name": "stdout",
          "text": [
            "\n",
            "\n",
            "\n",
            "\n",
            "\n",
            "\n",
            "\n",
            "<!DOCTYPE html PUBLIC \"-//W3C//DTD XHTML 1.0 Transitional//EN\" \"http://www.w3.org/TR/xhtml1/DTD/xhtml1-transitional.dtd\">\n",
            "<html lang=\"ko\">\n",
            "<head>\n",
            "<meta http-equiv=\"Pragma\" content=\"no-cache\"/>\n",
            "<meta http-equiv=\"Expires\" content=\"-1\"/>\n",
            "<meta name=\"robots\" content=\"noindex,follow\"/>\n",
            "<meta name=\"referrer\" content=\"always\"/>\n",
            "<meta http-equiv=\"content-type\" content=\"text/html;charset=UTF-8\"/>\n",
            "<meta http-equiv=\"X-UA-Compatible\" content=\"IE=edge,chrome=1\" />\n",
            "<link rel=\"shortcut icon\" type=\"image/x-icon\" href=\"/favicon.ico?3\" />\n",
            "<link rel=\"alternate\" type=\"application/rss+xml\" href=\"https://rss.blog.naver.com/heyho1927423.xml\" title=\"RSS feed for heyho1927423 Blog\"/>\n",
            "<link rel=\"wlwmanifest\" type=\"application/wlwmanifest+xml\" href=\"https://blog.naver.com/NBlogWlwLayout.naver?blogId=heyho1927423\" />\n",
            "\n",
            "\n",
            "\n",
            "\n",
            "<title>오늘 뭐했니? : 네이버 블로그</title>\n",
            "</head>\n",
            "<script type=\"text/javascript\" src=\"https://ssl.pstatic.net/t.static.blog/mylog/versioning/Frameset-478668353_https.js\" charset=\"UTF-8\"></script>\n",
            "\n",
            "<script type=\"text/javascript\" charset=\"UTF-8\">\n",
            "var photoContent=\"\";\n",
            "var postContent=\"\";\n",
            "\n",
            "var videoId \t  = \"\";\n",
            "var thumbnail \t  = \"\";\n",
            "var inKey \t\t  = \"\";\n",
            "var movieFileSize = \"\";\n",
            "var playTime \t  = \"\";\n",
            "var screenSize \t  = \"\";\n",
            "\n",
            "var blogId = 'heyho1927423';\n",
            "var blogURL = 'https://blog.naver.com';\n",
            "var eventCnt = '';\n",
            "\n",
            "var g_ShareObject = {};\n",
            "g_ShareObject.referer = \"\";\n",
            "\n",
            "\n",
            "jsMVC.setController(\"framesetTitleController\", FramesetTitleController);\n",
            "jsMVC.setController(\"framesetUrlController\", FramesetUrlController);\n",
            "jsMVC.setController(\"framesetMusicController\", FramesetMusicController);\n",
            "var oFramesetTitleController = jsMVC.getController(\"framesetTitleController\");\n",
            "var oFramesetUrlController = jsMVC.getController(\"framesetUrlController\");\n",
            "var oFramesetMusicController = jsMVC.getController(\"framesetMusicController\");\n",
            "var sTitle = document.title;\n",
            "\n",
            "var topFrameAlert = function(message){\n",
            "\talert(message);\n",
            "};\n",
            "\n",
            "var topFrameConfirm = function(message){\n",
            "\tif(confirm(message)){\n",
            "\t\treturn true;\n",
            "\t} else {\n",
            "\t\treturn false;\n",
            "\t}\n",
            "};\n",
            "</script>\n",
            "<style type=\"text/css\">\n",
            "    html{width:100%;height:100%;}\n",
            "    body{width:100%;height:100%;margin:0;padding:0;font-size:0;}\n",
            "    #mainFrame{width:100%;height:100%;margin:0;padding:0;border:0;}\n",
            "    #hiddenFrame{width:0;height:0;margin:0;padding:0;border:0;}\n",
            "</style>\n",
            "<body>\n",
            "    <iframe id=\"mainFrame\" name=\"mainFrame\" allowfullscreen=\"true\" src=\"/PostView.naver?blogId=heyho1927423&logNo=222883408996&redirect=Dlog&widgetTypeCall=true&directAccess=false\" scrolling=\"auto\"  onload=\"oFramesetTitleController.start(self.frames['mainFrame'], self, sTitle);oFramesetTitleController.onLoadFrame();oFramesetUrlController.start(self.frames['mainFrame']);oFramesetUrlController.onLoadFrame()\" allowfullscreen></iframe>\n",
            "</body>\n",
            "</html>\n"
          ]
        }
      ],
      "source": [
        "import requests\n",
        "from bs4 import BeautifulSoup\n",
        "\n",
        "r=requests.get('https://blog.naver.com/heyho1927423/222883408996')\n",
        "print(r.text)"
      ]
    },
    {
      "cell_type": "code",
      "source": [
        "soup=BeautifulSoup(r.text,features=\"html\")\n",
        "soup.find_all('title')"
      ],
      "metadata": {
        "colab": {
          "base_uri": "https://localhost:8080/"
        },
        "id": "PR25vv3JGS9m",
        "outputId": "d2e05bda-5c2e-4c79-97a6-df749fc8ccf9"
      },
      "execution_count": 3,
      "outputs": [
        {
          "output_type": "execute_result",
          "data": {
            "text/plain": [
              "[<title>오늘 뭐했니? : 네이버 블로그</title>]"
            ]
          },
          "metadata": {},
          "execution_count": 3
        }
      ]
    }
  ]
}