{
  "nbformat": 4,
  "nbformat_minor": 0,
  "metadata": {
    "colab": {
      "provenance": [],
      "authorship_tag": "ABX9TyPi5WRpTCDcIKF4fgv9ZlVz",
      "include_colab_link": true
    },
    "kernelspec": {
      "name": "python3",
      "display_name": "Python 3"
    },
    "language_info": {
      "name": "python"
    }
  },
  "cells": [
    {
      "cell_type": "markdown",
      "metadata": {
        "id": "view-in-github",
        "colab_type": "text"
      },
      "source": [
        "<a href=\"https://colab.research.google.com/github/jjyeon0826/test/blob/main/%EA%B3%BC%EC%A0%9C7.ipynb\" target=\"_parent\"><img src=\"https://colab.research.google.com/assets/colab-badge.svg\" alt=\"Open In Colab\"/></a>"
      ]
    },
    {
      "cell_type": "code",
      "execution_count": 1,
      "metadata": {
        "colab": {
          "base_uri": "https://localhost:8080/"
        },
        "id": "XgK6RobzWSGw",
        "outputId": "65d0a5b1-0908-495a-fdfa-48a472d7bdd5"
      },
      "outputs": [
        {
          "output_type": "stream",
          "name": "stdout",
          "text": [
            "Received HTTP/1.1 400 Bad Request\r\n",
            "Server: nginx/1.25.4\r\n",
            "Date: Thu, 28 Mar 2024 04:45:31 GMT\r\n",
            "Content-Type: text/html\r\n",
            "Content-Length: 157\r\n",
            "Connection: close\r\n",
            "\r\n",
            "<html>\r\n",
            "<head><title>400 Bad Request</title></head>\r\n",
            "<body>\r\n",
            "<center><h1>400 Bad Request</h1></center>\r\n",
            "<hr><center>nginx/1.25.4</center>\r\n",
            "</body>\r\n",
            "</html>\r\n",
            "\n"
          ]
        }
      ],
      "source": [
        "import socket\n",
        "\n",
        "HOST = \"www.ewhaian.com\"\n",
        "PORT = 80\n",
        "with socket.socket(socket.AF_INET, socket.SOCK_STREAM) as s:\n",
        "    s.connect((HOST, PORT))\n",
        "    s.sendall(b\"GET / HTTP/1.2\\n\\n\")\n",
        "    data = s.recv(1024)\n",
        "\n",
        "\n",
        "print(f\"Received {data.decode('utf-8')}\")"
      ]
    }
  ]
}